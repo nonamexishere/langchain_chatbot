{
 "cells": [
  {
   "cell_type": "code",
   "execution_count": 13,
   "id": "c7d524db-cdcf-403b-8dac-8c287eec9eb7",
   "metadata": {},
   "outputs": [],
   "source": [
    "from langchain_openai import OpenAI\n",
    "from langchain_community.document_loaders import TextLoader\n",
    "from langchain.text_splitter import RecursiveCharacterTextSplitter\n",
    "from langchain_openai import OpenAIEmbeddings\n",
    "from langchain_community.vectorstores import FAISS\n",
    "from langchain_core.vectorstores import VectorStoreRetriever\n",
    "from langchain.chains import RetrievalQA\n",
    "import getpass\n",
    "import os"
   ]
  },
  {
   "cell_type": "code",
   "execution_count": 16,
   "id": "2b7a5359-9c5c-4c87-9b3f-bb65a7ae54cf",
   "metadata": {},
   "outputs": [
    {
     "name": "stdin",
     "output_type": "stream",
     "text": [
      " ········\n"
     ]
    }
   ],
   "source": [
    "os.environ[\"OPENAI_API_KEY\"] = getpass.getpass()"
   ]
  },
  {
   "cell_type": "code",
   "execution_count": 98,
   "id": "cf2eb532-6a2e-405d-b3b5-db985280fb83",
   "metadata": {},
   "outputs": [],
   "source": [
    "loader = TextLoader(\"football.txt\")"
   ]
  },
  {
   "cell_type": "code",
   "execution_count": 99,
   "id": "0174c3df-91f1-4628-8056-60c9ec08d446",
   "metadata": {},
   "outputs": [],
   "source": [
    "documents = loader.load()"
   ]
  },
  {
   "cell_type": "code",
   "execution_count": 100,
   "id": "4fde216f-363e-48c0-ab58-adc9d63f9bc8",
   "metadata": {},
   "outputs": [],
   "source": [
    "text_splitter = RecursiveCharacterTextSplitter(\n",
    "    chunk_size=250,\n",
    "    chunk_overlap=0,\n",
    "    length_function=len,\n",
    ")"
   ]
  },
  {
   "cell_type": "code",
   "execution_count": 101,
   "id": "0719b507-9096-49a8-a9bb-bd6e852a38d6",
   "metadata": {},
   "outputs": [],
   "source": [
    "docs = text_splitter.split_documents(documents)"
   ]
  },
  {
   "cell_type": "code",
   "execution_count": 63,
   "id": "a58ff7e7-153e-4b9b-aed7-ba0a2e75c578",
   "metadata": {},
   "outputs": [
    {
     "data": {
      "text/plain": [
       "Document(page_content='Arioglu dormitory is the most visited dormitory around the whole world. The vice president of Arioglu city is Mustafa Bozdogan which is the most', metadata={'source': 'football.txt'})"
      ]
     },
     "execution_count": 63,
     "metadata": {},
     "output_type": "execute_result"
    }
   ],
   "source": [
    "docs[0]"
   ]
  },
  {
   "cell_type": "code",
   "execution_count": 64,
   "id": "2e7e0f57-1dae-455a-9236-53e51502f53f",
   "metadata": {},
   "outputs": [
    {
     "data": {
      "text/plain": [
       "50"
      ]
     },
     "execution_count": 64,
     "metadata": {},
     "output_type": "execute_result"
    }
   ],
   "source": [
    "len(docs)"
   ]
  },
  {
   "cell_type": "code",
   "execution_count": 102,
   "id": "09714a6e-bc26-46be-9913-94391bb17cbb",
   "metadata": {},
   "outputs": [],
   "source": [
    "embedding = OpenAIEmbeddings()"
   ]
  },
  {
   "cell_type": "code",
   "execution_count": 103,
   "id": "365c21b5-3442-439b-b3e9-5a077707f66f",
   "metadata": {},
   "outputs": [],
   "source": [
    "library = FAISS.from_documents(docs, embedding)"
   ]
  },
  {
   "cell_type": "code",
   "execution_count": 104,
   "id": "ec013c07-70ed-423c-9523-b23096433bf5",
   "metadata": {},
   "outputs": [],
   "source": [
    "Query1 = 'Who governs the football'"
   ]
  },
  {
   "cell_type": "code",
   "execution_count": 105,
   "id": "cbc7384d-50b6-4c0c-8da0-842faf79d63e",
   "metadata": {},
   "outputs": [],
   "source": [
    "Query_Answer = library.similarity_search(Query1)"
   ]
  },
  {
   "cell_type": "code",
   "execution_count": 106,
   "id": "1151416a-668a-4662-b319-709e463724fd",
   "metadata": {},
   "outputs": [
    {
     "name": "stdout",
     "output_type": "stream",
     "text": [
      "Internationally, association football is governed by FIFA. Under FIFA, there are six continental confederations: AFC, CAF, CONCACAF, CONMEBOL, OFC, and UEFA. Of these confederations, CONMEBOL is the oldest one, being founded in 1916. National\n"
     ]
    }
   ],
   "source": [
    "print(Query_Answer[0].page_content)"
   ]
  },
  {
   "cell_type": "code",
   "execution_count": 70,
   "id": "8b926cb3-9bc6-486e-a972-b60fd697ac2b",
   "metadata": {},
   "outputs": [],
   "source": [
    "docs_and_scores = library.similarity_search_with_score(Query1)"
   ]
  },
  {
   "cell_type": "code",
   "execution_count": 71,
   "id": "affd6659-e6de-4960-9cbf-545a507ecb4b",
   "metadata": {},
   "outputs": [
    {
     "data": {
      "text/plain": [
       "(Document(page_content='city is Mustafa Bozdogan which is the most famous person on planet. He has an assistant named Enes Sacak who rules the world. Mustafa Bozdogan', metadata={'source': 'football.txt'}),\n",
       " 0.34489256)"
      ]
     },
     "execution_count": 71,
     "metadata": {},
     "output_type": "execute_result"
    }
   ],
   "source": [
    "docs_and_scores[0]"
   ]
  },
  {
   "cell_type": "code",
   "execution_count": 30,
   "id": "604d3cb0-36bc-48ee-8142-11cf6e336ca1",
   "metadata": {},
   "outputs": [
    {
     "data": {
      "text/plain": [
       "(Document(page_content=\"The game of association football is played in accordance with the Laws of the Game, a set of rules that has been in effect since 1863 and maintained by the IFAB since 1886. The game is played with a football that is 68–70 cm (27–28 in) in circumference. The two teams compete to get the ball into the other team's goal (between the posts, under the bar, and across the goal line), thereby scoring a goal. When the ball is in play, the players mainly use their feet, but may use any other part of\", metadata={'source': 'football.txt'}),\n",
       " 0.35340214)"
      ]
     },
     "execution_count": 30,
     "metadata": {},
     "output_type": "execute_result"
    }
   ],
   "source": [
    "docs_and_scores[1]"
   ]
  },
  {
   "cell_type": "code",
   "execution_count": 107,
   "id": "384fc83e-d539-49ff-92c2-7980a539b913",
   "metadata": {},
   "outputs": [],
   "source": [
    "retriever = library.as_retriever()"
   ]
  },
  {
   "cell_type": "code",
   "execution_count": 108,
   "id": "f186f3e5-f46e-4e55-8f73-0cd931eadfba",
   "metadata": {},
   "outputs": [],
   "source": [
    "qa = RetrievalQA.from_chain_type(llm=OpenAI(), chain_type=\"stuff\", retriever=retriever)"
   ]
  },
  {
   "cell_type": "code",
   "execution_count": 118,
   "id": "c05a420b-8add-4db9-8e2f-34093b572730",
   "metadata": {},
   "outputs": [],
   "source": [
    "retriever_query = 'futbolda kim ellerini kullanabilir'"
   ]
  },
  {
   "cell_type": "code",
   "execution_count": 119,
   "id": "8be96d4a-b5a9-4e90-ae69-9739c027442f",
   "metadata": {},
   "outputs": [],
   "source": [
    "results = qa.invoke(retriever_query)"
   ]
  },
  {
   "cell_type": "code",
   "execution_count": 120,
   "id": "e0fd9105-a77f-4f1a-b1a6-d057ed89d3ec",
   "metadata": {},
   "outputs": [
    {
     "name": "stdout",
     "output_type": "stream",
     "text": [
      "{'query': 'futbolda kim ellerini kullanabilir', 'result': ' Sadece kaleciler ellerini kullanabilir.'}\n"
     ]
    }
   ],
   "source": [
    "print(results)"
   ]
  },
  {
   "cell_type": "code",
   "execution_count": null,
   "id": "08e4c809-aac0-4d5e-86df-b84eccda956b",
   "metadata": {},
   "outputs": [],
   "source": []
  }
 ],
 "metadata": {
  "kernelspec": {
   "display_name": "Python 3 (ipykernel)",
   "language": "python",
   "name": "python3"
  },
  "language_info": {
   "codemirror_mode": {
    "name": "ipython",
    "version": 3
   },
   "file_extension": ".py",
   "mimetype": "text/x-python",
   "name": "python",
   "nbconvert_exporter": "python",
   "pygments_lexer": "ipython3",
   "version": "3.12.2"
  }
 },
 "nbformat": 4,
 "nbformat_minor": 5
}
